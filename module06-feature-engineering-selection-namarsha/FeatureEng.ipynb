{
 "cells": [
  {
   "cell_type": "markdown",
   "metadata": {},
   "source": [
    "### Student Name: Nick Marshall"
   ]
  },
  {
   "cell_type": "code",
   "execution_count": 1,
   "metadata": {},
   "outputs": [],
   "source": [
    "#TODO: import the modules\n",
    "import pandas as pd\n",
    "import matplotlib.pyplot as plt\n",
    "import datetime\n",
    "from sklearn.feature_selection import RFE, SelectKBest\n",
    "from sklearn import svm\n",
    "from sklearn import preprocessing\n",
    "from sklearn.feature_selection import chi2, f_classif \n",
    "from sklearn.preprocessing import MinMaxScaler"
   ]
  },
  {
   "cell_type": "markdown",
   "metadata": {},
   "source": [
    "### Step 1 - Load the data"
   ]
  },
  {
   "cell_type": "code",
   "execution_count": 2,
   "metadata": {},
   "outputs": [
    {
     "data": {
      "text/plain": [
       "<AxesSubplot:>"
      ]
     },
     "execution_count": 2,
     "metadata": {},
     "output_type": "execute_result"
    },
    {
     "data": {
      "image/png": "[encoded data removed]",
      "text/plain": [
       "<Figure size 432x288 with 1 Axes>"
      ]
     },
     "metadata": {
      "needs_background": "light"
     },
     "output_type": "display_data"
    }
   ],
   "source": [
    "sample_size = 1000\n",
    "file_path   = 'trip_data.csv' #TODO: provide the file path or URL to the dataset `trip_data.csv`\n",
    "\n",
    "df = pd.read_csv(file_path)\n",
    "df = df.groupby('tip').apply(lambda x: x.sample(sample_size))\n",
    "df = df.sample(frac=1) #shuffle the dataframe rows\n",
    "\n",
    "#visualize the sample data, which contain 1000 observations from each class\n",
    "df.tip.value_counts().sort_index().plot.bar()"
   ]
  },
  {
   "cell_type": "code",
   "execution_count": 3,
   "metadata": {},
   "outputs": [
    {
     "data": {
      "text/plain": [
       "VendorID                 float64\n",
       "lpep_pickup_datetime      object\n",
       "lpep_dropoff_datetime     object\n",
       "RatecodeID               float64\n",
       "PULocationID               int64\n",
       "DOLocationID               int64\n",
       "passenger_count          float64\n",
       "trip_distance            float64\n",
       "fare_amount              float64\n",
       "extra                    float64\n",
       "mta_tax                  float64\n",
       "tolls_amount             float64\n",
       "improvement_surcharge    float64\n",
       "total_amount             float64\n",
       "trip_type                float64\n",
       "congestion_surcharge     float64\n",
       "tip                       object\n",
       "dtype: object"
      ]
     },
     "execution_count": 3,
     "metadata": {},
     "output_type": "execute_result"
    }
   ],
   "source": [
    "df.dtypes"
   ]
  },
  {
   "cell_type": "code",
   "execution_count": 4,
   "metadata": {},
   "outputs": [
    {
     "data": {
      "text/plain": [
       "<bound method NDFrame.head of                  VendorID lpep_pickup_datetime lpep_dropoff_datetime  \\\n",
       "tip                                                                    \n",
       "standard 50820        2.0  2019-12-09 14:49:12   2019-12-09 14:56:47   \n",
       "low      140578       1.0  2019-12-24 12:50:32   2019-12-24 13:03:34   \n",
       "         5705         2.0  2019-12-02 09:37:47   2019-12-02 09:46:00   \n",
       "good     35472        2.0  2019-12-06 21:36:45   2019-12-06 21:39:47   \n",
       "         44611        2.0  2019-12-08 09:04:37   2019-12-08 09:09:13   \n",
       "...                   ...                  ...                   ...   \n",
       "no-tip   18998        1.0  2019-12-04 13:37:30   2019-12-04 14:09:03   \n",
       "standard 122263       2.0  2019-12-20 17:47:02   2019-12-20 18:04:10   \n",
       "low      89546        2.0  2019-12-15 13:56:31   2019-12-15 14:08:21   \n",
       "good     116132       2.0  2019-12-19 18:21:08   2019-12-19 19:07:29   \n",
       "low      1091         2.0  2019-12-01 10:02:36   2019-12-01 10:16:21   \n",
       "\n",
       "                 RatecodeID  PULocationID  DOLocationID  passenger_count  \\\n",
       "tip                                                                        \n",
       "standard 50820          1.0            82           129              2.0   \n",
       "low      140578         1.0            75           168              1.0   \n",
       "         5705           1.0            74           152              5.0   \n",
       "good     35472          1.0            41            41              1.0   \n",
       "         44611          1.0            33            65              1.0   \n",
       "...                     ...           ...           ...              ...   \n",
       "no-tip   18998          1.0            40            17              1.0   \n",
       "standard 122263         1.0            65           107              1.0   \n",
       "low      89546          1.0            41            74              1.0   \n",
       "good     116132         1.0           244           141              1.0   \n",
       "low      1091           1.0            75           229              5.0   \n",
       "\n",
       "                 trip_distance  fare_amount  extra  mta_tax  tolls_amount  \\\n",
       "tip                                                                         \n",
       "standard 50820            1.47          7.0    0.0      0.5           0.0   \n",
       "low      140578           2.40         10.5    0.0      0.5           0.0   \n",
       "         5705             1.39          8.0    0.0      0.5           0.0   \n",
       "good     35472            0.69          4.5    0.5      0.5           0.0   \n",
       "         44611            0.85          5.0    0.0      0.5           0.0   \n",
       "...                        ...          ...    ...      ...           ...   \n",
       "no-tip   18998            4.70         21.5    0.0      0.5           0.0   \n",
       "standard 122263           5.26         18.0    1.0      0.5           0.0   \n",
       "low      89546            1.59          9.0    0.0      0.5           0.0   \n",
       "good     116132           7.32         31.0    1.0      0.5           0.0   \n",
       "low      1091             3.20         12.5    0.0      0.5           0.0   \n",
       "\n",
       "                 improvement_surcharge  total_amount  trip_type  \\\n",
       "tip                                                               \n",
       "standard 50820                     0.3          8.80        1.0   \n",
       "low      140578                    0.3         12.30        1.0   \n",
       "         5705                      0.3         10.56        1.0   \n",
       "good     35472                     0.3          6.96        1.0   \n",
       "         44611                     0.3          6.96        1.0   \n",
       "...                                ...           ...        ...   \n",
       "no-tip   18998                     0.3         22.30        1.0   \n",
       "standard 122263                    0.3         28.19        1.0   \n",
       "low      89546                     0.3         11.76        1.0   \n",
       "good     116132                    0.3         46.21        1.0   \n",
       "low      1091                      0.3         17.80        1.0   \n",
       "\n",
       "                 congestion_surcharge       tip  \n",
       "tip                                              \n",
       "standard 50820                   0.00  standard  \n",
       "low      140578                  0.00       low  \n",
       "         5705                    0.00       low  \n",
       "good     35472                   0.00      good  \n",
       "         44611                   0.00      good  \n",
       "...                               ...       ...  \n",
       "no-tip   18998                   0.00    no-tip  \n",
       "standard 122263                  2.75  standard  \n",
       "low      89546                   0.00       low  \n",
       "good     116132                  2.75      good  \n",
       "low      1091                    2.75       low  \n",
       "\n",
       "[4000 rows x 17 columns]>"
      ]
     },
     "execution_count": 4,
     "metadata": {},
     "output_type": "execute_result"
    }
   ],
   "source": [
    "df.head"
   ]
  },
  {
   "cell_type": "markdown",
   "metadata": {},
   "source": [
    "### Step 2: Create a new feature called `trip_duration`"
   ]
  },
  {
   "cell_type": "code",
   "execution_count": 5,
   "metadata": {},
   "outputs": [],
   "source": [
    "#Create a new feature called trip_duration and add it to the dataframe\n",
    "\n",
    "#TODO: Calculate the difference between `lpep_pickup_datetime` and `lpep_dropoff_datetime` in seconds (this should be a positive number).\n",
    "df['lpep_dropoff_datetime_s'] = df['lpep_dropoff_datetime'].apply(lambda x: datetime.datetime.strptime(x, '%Y-%m-%d %H:%M:%S').timestamp())\n",
    "df['lpep_pickup_datetime_s'] = df['lpep_pickup_datetime'].apply(lambda x: datetime.datetime.strptime(x, '%Y-%m-%d %H:%M:%S').timestamp())\n",
    "                                                                                                     \n",
    "df['trip_duration'] = df['lpep_dropoff_datetime_s'] - df['lpep_pickup_datetime_s']  #TODO: store the elapsed time (from above) into the dataframe.\n",
    "\n",
    "df.head()\n",
    "\n",
    "#Remove the `lpep_pickup_datetime` and `lpep_dropoff_datetime` from the dataframe.\n",
    "del df['lpep_dropoff_datetime']\n",
    "del df['lpep_pickup_datetime']\n",
    "del df['lpep_dropoff_datetime_s']\n",
    "del df['lpep_pickup_datetime_s']"
   ]
  },
  {
   "cell_type": "markdown",
   "metadata": {},
   "source": [
    "### Step 3: Encode the labels in the `tip` field.\n",
    "Use the [LabelEncoder](https://scikit-learn.org/stable/modules/generated/sklearn.preprocessing.LabelEncoder.html) in scikit learn."
   ]
  },
  {
   "cell_type": "code",
   "execution_count": 6,
   "metadata": {},
   "outputs": [
    {
     "data": {
      "text/plain": [
       "tip             \n",
       "standard  50820     3\n",
       "low       140578    1\n",
       "          5705      1\n",
       "good      35472     0\n",
       "          44611     0\n",
       "                   ..\n",
       "no-tip    18998     2\n",
       "standard  122263    3\n",
       "low       89546     1\n",
       "good      116132    0\n",
       "low       1091      1\n",
       "Name: tip, Length: 4000, dtype: int32"
      ]
     },
     "execution_count": 6,
     "metadata": {},
     "output_type": "execute_result"
    }
   ],
   "source": [
    "#Encode the class labels\n",
    "\n",
    "#TODO: Initialize the `LabelEncoder`\n",
    "le = preprocessing.LabelEncoder()\n",
    "\n",
    "#TODO: Fit the `LabelEncoder` to the class labels in the 'tip' field\n",
    "le.fit(df['tip'])\n",
    "le.classes_\n",
    "#TODO: Use the `LabelEncoder` to encode class labels in the 'tip' field.\n",
    "df['tip'] = le.transform(df['tip'])\n",
    "#TODO: Display the encoded labels\n",
    "df['tip']"
   ]
  },
  {
   "cell_type": "markdown",
   "metadata": {},
   "source": [
    "Question from student: Why are we seemingly ignoring the ordinal nature of these categories?"
   ]
  },
  {
   "cell_type": "code",
   "execution_count": 7,
   "metadata": {},
   "outputs": [
    {
     "data": {
      "text/plain": [
       "Index(['VendorID', 'RatecodeID', 'PULocationID', 'DOLocationID',\n",
       "       'passenger_count', 'trip_distance', 'fare_amount', 'extra', 'mta_tax',\n",
       "       'tolls_amount', 'improvement_surcharge', 'total_amount', 'trip_type',\n",
       "       'congestion_surcharge', 'tip', 'trip_duration'],\n",
       "      dtype='object')"
      ]
     },
     "execution_count": 7,
     "metadata": {},
     "output_type": "execute_result"
    }
   ],
   "source": [
    "df.columns"
   ]
  },
  {
   "cell_type": "code",
   "execution_count": null,
   "metadata": {},
   "outputs": [],
   "source": []
  },
  {
   "cell_type": "code",
   "execution_count": 8,
   "metadata": {},
   "outputs": [],
   "source": [
    "#assign the input features and the class labels to variables 'X' and 'y' respectively.\n",
    "\n",
    "features = [ 'RatecodeID', 'PULocationID', 'DOLocationID',\n",
    "       'passenger_count', 'trip_distance', 'fare_amount', 'extra', 'mta_tax',\n",
    "       'tolls_amount', 'improvement_surcharge', 'total_amount', 'trip_type',\n",
    "       'congestion_surcharge', 'trip_duration']\n",
    "X = df[features]\n",
    "#TODO: assign the input features (in the dataframe) to a variable 'X'.\n",
    "\n",
    "\n",
    "\n",
    "y = df['tip']\n",
    "#TODO: assign the encoded labels to a variale 'y'."
   ]
  },
  {
   "cell_type": "markdown",
   "metadata": {},
   "source": [
    "### Step 4: Feature selection"
   ]
  },
  {
   "cell_type": "markdown",
   "metadata": {},
   "source": [
    "#### Filter Methods"
   ]
  },
  {
   "cell_type": "markdown",
   "metadata": {},
   "source": [
    "[Univariate feature selection](https://scikit-learn.org/stable/modules/feature_selection.html#univariate-feature-selection): use [SelectKBest](https://scikit-learn.org/stable/modules/generated/sklearn.feature_selection.SelectKBest.html#sklearn.feature_selection.SelectKBest) to select the seven highest scoring features (i.e. k=7)."
   ]
  },
  {
   "cell_type": "code",
   "execution_count": 9,
   "metadata": {},
   "outputs": [
    {
     "data": {
      "text/plain": [
       "['PULocationID',\n",
       " 'DOLocationID',\n",
       " 'trip_distance',\n",
       " 'fare_amount',\n",
       " 'total_amount',\n",
       " 'congestion_surcharge',\n",
       " 'trip_duration']"
      ]
     },
     "execution_count": 9,
     "metadata": {},
     "output_type": "execute_result"
    }
   ],
   "source": [
    "#Univariate feature selection using SelectKBest.\n",
    "\n",
    "k_best   = SelectKBest(score_func=chi2, #TODO choose either chi2 or f_classif\n",
    "                     k=7#TODO: enter the value for k\n",
    "                    )\n",
    "\n",
    "k_best   = k_best.fit(X, y)\n",
    "\n",
    "features = k_best.transform(X)\n",
    "\n",
    "\n",
    "#TODO: display the names of the selected features below\n",
    "#Had to resort to stack overflow for this one: https://stackoverflow.com/questions/46927545/get-feature-names-of-selectkbest-function-python/46929321\n",
    "list(X.columns[k_best.get_support(indices = True)])"
   ]
  },
  {
   "cell_type": "code",
   "execution_count": 10,
   "metadata": {},
   "outputs": [],
   "source": [
    "#Assign result of SelectKBest to a variable for comparison later\n",
    "\n",
    "results_select_unscaled = list(X.columns[k_best.get_support(indices = True)])"
   ]
  },
  {
   "cell_type": "markdown",
   "metadata": {},
   "source": [
    "#### Wrapper methods"
   ]
  },
  {
   "cell_type": "markdown",
   "metadata": {},
   "source": [
    "Identify the top seven features using [Support Vector Machines (SVM)](https://scikit-learn.org/stable/modules/svm.html) and [Recursive feature elimination (RFE)](https://scikit-learn.org/stable/modules/generated/sklearn.feature_selection.RFE.html#sklearn.feature_selection.RFE).\n",
    "\n",
    "Here is an example on using [SVMs for classification](https://scikit-learn.org/stable/modules/svm.html#classification) and [RFE](https://scikit-learn.org/stable/auto_examples/feature_selection/plot_rfe_digits.html#sphx-glr-auto-examples-feature-selection-plot-rfe-digits-py) in scikit-learn."
   ]
  },
  {
   "cell_type": "code",
   "execution_count": 11,
   "metadata": {},
   "outputs": [
    {
     "name": "stdout",
     "output_type": "stream",
     "text": [
      "Fitting estimator with 14 features.\n",
      "Fitting estimator with 13 features.\n",
      "Fitting estimator with 12 features.\n",
      "Fitting estimator with 11 features.\n",
      "Fitting estimator with 10 features.\n",
      "Fitting estimator with 9 features.\n",
      "Fitting estimator with 8 features.\n"
     ]
    },
    {
     "data": {
      "text/plain": [
       "RFE(estimator=SVC(kernel='linear'), n_features_to_select=7, verbose=1)"
      ]
     },
     "execution_count": 11,
     "metadata": {},
     "output_type": "execute_result"
    }
   ],
   "source": [
    "\n",
    "svm_estimator = svm.SVC(kernel='linear') #initialize the SVM estimator\n",
    "\n",
    "#TODO: Recursive Feature Elimination\n",
    "rfe = RFE(estimator=svm_estimator , #TODO: provide the SVM estimator \n",
    "          verbose=1, \n",
    "          n_features_to_select= 7 #TODO: enter the number of required features\n",
    "         )\n",
    "\n",
    "rfe.fit(X, y) #Note: this may take a few minutes to complete\n",
    "\n",
    "\n"
   ]
  },
  {
   "cell_type": "code",
   "execution_count": 12,
   "metadata": {},
   "outputs": [
    {
     "data": {
      "text/plain": [
       "Index(['fare_amount', 'extra', 'mta_tax', 'tolls_amount', 'total_amount',\n",
       "       'trip_type', 'congestion_surcharge'],\n",
       "      dtype='object')"
      ]
     },
     "execution_count": 12,
     "metadata": {},
     "output_type": "execute_result"
    }
   ],
   "source": [
    "#TODO: display the names of the selected features below\n",
    "X.columns[rfe.support_]"
   ]
  },
  {
   "cell_type": "code",
   "execution_count": 13,
   "metadata": {},
   "outputs": [],
   "source": [
    "#Assign result of RFE to a variable for comparison later\n",
    "results_rfe_unscaled = X.columns[rfe.support_]"
   ]
  },
  {
   "cell_type": "markdown",
   "metadata": {},
   "source": [
    "#### The results\n",
    "Compare and contrast the selected features from the filter and wrapper methods. "
   ]
  },
  {
   "cell_type": "markdown",
   "metadata": {},
   "source": [
    "SelectKBest provides \n",
    "'PULocationID',\n",
    " 'DOLocationID',\n",
    " 'trip_distance',\n",
    " 'fare_amount',\n",
    " 'total_amount',\n",
    " 'congestion_surcharge',\n",
    " 'trip_duration'\n",
    " \n",
    " SVM with RFE provides:\n",
    " 'fare_amount', 'extra', 'mta_tax', 'tolls_amount', 'total_amount',\n",
    "       'trip_type', 'congestion_surcharge'\n",
    "       \n",
    "SVM with RFE includes in its feature output 'extra' and 'tolls_amount', and 'trip_type', which is ignored by SelectKBest. \n",
    "\n",
    "Both models share in common 'congestion_surcharge', 'total_amount', and 'fare amount'.\n",
    "\n",
    "The results from SelectKBest seem more reasonable overall. Tip would probably be a function of duration and distance of the trip. Location may also play a role, if its related in anyway to class. People from certain locations may feel a pressing nobless oblige to tip. These are admittedly speculations. \n"
   ]
  },
  {
   "cell_type": "markdown",
   "metadata": {},
   "source": [
    "### Step 5: Standardize the input features\n",
    "Use the [MinMaxScaler](https://scikit-learn.org/stable/modules/generated/sklearn.preprocessing.MinMaxScaler.html#sklearn.preprocessing.MinMaxScaler) in [scikit-learn's preprocessing module](https://scikit-learn.org/stable/modules/preprocessing.html) to scale the input features between 0.1 and 0.9 (i.e. the min and max respectively). "
   ]
  },
  {
   "cell_type": "code",
   "execution_count": 14,
   "metadata": {},
   "outputs": [],
   "source": [
    "#Standardize the input features\n",
    "scaler = MinMaxScaler(feature_range=(0.1, 0.9) #TODO: provide the min and max values for the features\n",
    "                     )\n",
    "\n",
    "X_scaled = scaler.fit_transform(X)"
   ]
  },
  {
   "cell_type": "code",
   "execution_count": 15,
   "metadata": {},
   "outputs": [
    {
     "data": {
      "text/plain": [
       "Index(['RatecodeID', 'PULocationID', 'DOLocationID', 'trip_distance',\n",
       "       'fare_amount', 'extra', 'congestion_surcharge'],\n",
       "      dtype='object')"
      ]
     },
     "execution_count": 15,
     "metadata": {},
     "output_type": "execute_result"
    }
   ],
   "source": [
    "#TODO: Perform the SelectKBest and Recursive Feature Elimination steps using the standardized data\n",
    "\n",
    "#SELECTKBEST\n",
    "k_best_scaled   = SelectKBest(score_func=chi2, #TODO choose either chi2 or f_classif\n",
    "                     k=7#TODO: enter the value for k\n",
    "                    )\n",
    "\n",
    "k_best_scaled   = k_best.fit(X_scaled, y)\n",
    "\n",
    "features_scaled = k_best.transform(X_scaled)\n",
    "\n",
    "\n",
    "#TODO: display the names of the selected features below\n",
    "X.columns[k_best_scaled.get_support(indices = True)]\n",
    "\n"
   ]
  },
  {
   "cell_type": "code",
   "execution_count": 16,
   "metadata": {},
   "outputs": [],
   "source": [
    "results_select_scaled = X.columns[k_best_scaled.get_support(indices = True)]"
   ]
  },
  {
   "cell_type": "code",
   "execution_count": 17,
   "metadata": {},
   "outputs": [
    {
     "name": "stdout",
     "output_type": "stream",
     "text": [
      "Fitting estimator with 14 features.\n",
      "Fitting estimator with 13 features.\n",
      "Fitting estimator with 12 features.\n",
      "Fitting estimator with 11 features.\n",
      "Fitting estimator with 10 features.\n",
      "Fitting estimator with 9 features.\n",
      "Fitting estimator with 8 features.\n"
     ]
    },
    {
     "data": {
      "text/plain": [
       "RFE(estimator=SVC(kernel='linear'), n_features_to_select=7, verbose=1)"
      ]
     },
     "execution_count": 17,
     "metadata": {},
     "output_type": "execute_result"
    }
   ],
   "source": [
    "#RFE\n",
    "svm_estimator = svm.SVC(kernel='linear') #initialize the SVM estimator\n",
    "\n",
    "#TODO: Recursive Feature Elimination\n",
    "rfe_scaled = RFE(estimator=svm_estimator , #TODO: provide the SVM estimator \n",
    "          verbose=1, \n",
    "          n_features_to_select= 7 #TODO: enter the number of required features\n",
    "         )\n",
    "\n",
    "rfe_scaled.fit(X_scaled, y) #Note: this may take a few minutes to complete\n",
    "\n",
    "\n",
    "#TODO: display the names of the selected features for each method"
   ]
  },
  {
   "cell_type": "code",
   "execution_count": 18,
   "metadata": {},
   "outputs": [
    {
     "data": {
      "text/plain": [
       "Index(['RatecodeID', 'trip_distance', 'fare_amount', 'mta_tax', 'tolls_amount',\n",
       "       'total_amount', 'congestion_surcharge'],\n",
       "      dtype='object')"
      ]
     },
     "execution_count": 18,
     "metadata": {},
     "output_type": "execute_result"
    }
   ],
   "source": [
    "#columns of RFE fit\n",
    "X.columns[rfe_scaled.support_]"
   ]
  },
  {
   "cell_type": "code",
   "execution_count": 19,
   "metadata": {},
   "outputs": [],
   "source": [
    "results_rfe_scaled = X.columns[rfe_scaled.support_]"
   ]
  },
  {
   "cell_type": "markdown",
   "metadata": {},
   "source": [
    "#### The results\n",
    "Compare and contrast the scaled features from the filter and wrapper methods. "
   ]
  },
  {
   "cell_type": "code",
   "execution_count": 20,
   "metadata": {},
   "outputs": [
    {
     "name": "stdout",
     "output_type": "stream",
     "text": [
      "Results of unscaled kselect\n",
      "['PULocationID', 'DOLocationID', 'trip_distance', 'fare_amount', 'total_amount', 'congestion_surcharge', 'trip_duration']\n",
      "Results of scaled kselect\n",
      "Index(['RatecodeID', 'PULocationID', 'DOLocationID', 'trip_distance',\n",
      "       'fare_amount', 'extra', 'congestion_surcharge'],\n",
      "      dtype='object')\n",
      "Results of unscaled rfe\n",
      "Index(['fare_amount', 'extra', 'mta_tax', 'tolls_amount', 'total_amount',\n",
      "       'trip_type', 'congestion_surcharge'],\n",
      "      dtype='object')\n",
      "Results of scaled rfe\n",
      "Index(['RatecodeID', 'trip_distance', 'fare_amount', 'mta_tax', 'tolls_amount',\n",
      "       'total_amount', 'congestion_surcharge'],\n",
      "      dtype='object')\n"
     ]
    }
   ],
   "source": [
    "#TODO: Compare and contrast the results\n",
    "print(\"Results of unscaled kselect\")\n",
    "print(results_select_unscaled)\n",
    "print(\"Results of scaled kselect\")\n",
    "print(results_select_scaled)\n",
    "print(\"Results of unscaled rfe\")\n",
    "print(results_rfe_unscaled)\n",
    "print(\"Results of scaled rfe\")\n",
    "print(results_rfe_scaled)"
   ]
  },
  {
   "cell_type": "markdown",
   "metadata": {},
   "source": [
    "Let's be systematic about this.\n",
    "\n",
    "## Let's look at K-Select first\n",
    "\n",
    "What are the features in scaled kselect that are not in unscaled kselect?\n"
   ]
  },
  {
   "cell_type": "code",
   "execution_count": 25,
   "metadata": {},
   "outputs": [
    {
     "name": "stdout",
     "output_type": "stream",
     "text": [
      "['RatecodeID', 'extra']\n"
     ]
    }
   ],
   "source": [
    "features_added_in_scaling_kselect = []\n",
    "for i in results_select_scaled:\n",
    "    if i not in results_select_unscaled:\n",
    "        features_added_in_scaling_kselect.append(i)\n",
    "print(features_added_in_scaling_kselect)"
   ]
  },
  {
   "cell_type": "markdown",
   "metadata": {},
   "source": [
    "RatecodeID and extra are added by scaling kselect."
   ]
  },
  {
   "cell_type": "markdown",
   "metadata": {},
   "source": [
    "What are the features removed by scaling?"
   ]
  },
  {
   "cell_type": "code",
   "execution_count": 26,
   "metadata": {},
   "outputs": [
    {
     "name": "stdout",
     "output_type": "stream",
     "text": [
      "['total_amount', 'trip_duration']\n"
     ]
    }
   ],
   "source": [
    "features_removed_in_scaling_kselect = []\n",
    "for i in results_select_unscaled:\n",
    "    if i not in results_select_scaled:\n",
    "        features_removed_in_scaling_kselect.append(i)\n",
    "print(features_removed_in_scaling_kselect)"
   ]
  },
  {
   "cell_type": "markdown",
   "metadata": {},
   "source": [
    "Total amount and trip duration are removed in the scaled model. This is odd. I would expect these to fit in with the model somewhere."
   ]
  },
  {
   "cell_type": "markdown",
   "metadata": {},
   "source": [
    "What are the features held in common between scaled and unscaled modelling?"
   ]
  },
  {
   "cell_type": "code",
   "execution_count": 27,
   "metadata": {},
   "outputs": [
    {
     "name": "stdout",
     "output_type": "stream",
     "text": [
      "['PULocationID', 'DOLocationID', 'trip_distance', 'fare_amount', 'congestion_surcharge']\n"
     ]
    }
   ],
   "source": [
    "common_features = []\n",
    "for i in results_select_unscaled:\n",
    "    if i in results_select_scaled:\n",
    "        common_features.append(i)\n",
    "print(common_features)"
   ]
  },
  {
   "cell_type": "markdown",
   "metadata": {},
   "source": [
    "## Now let's look at RFE\n"
   ]
  },
  {
   "cell_type": "markdown",
   "metadata": {},
   "source": [
    "features added in scaling RFE"
   ]
  },
  {
   "cell_type": "code",
   "execution_count": 28,
   "metadata": {},
   "outputs": [
    {
     "name": "stdout",
     "output_type": "stream",
     "text": [
      "['RatecodeID', 'trip_distance']\n"
     ]
    }
   ],
   "source": [
    "features_added_scaling_rfe = []\n",
    "for i in results_rfe_scaled:\n",
    "    if i not in results_rfe_unscaled:\n",
    "        features_added_scaling_rfe.append(i)\n",
    "print(features_added_scaling_rfe)"
   ]
  },
  {
   "cell_type": "markdown",
   "metadata": {},
   "source": [
    "features removed in scaling rfe"
   ]
  },
  {
   "cell_type": "code",
   "execution_count": 30,
   "metadata": {},
   "outputs": [
    {
     "name": "stdout",
     "output_type": "stream",
     "text": [
      "['extra', 'trip_type']\n"
     ]
    }
   ],
   "source": [
    "features_removed_scaling_rfe = []\n",
    "for i in results_rfe_unscaled:\n",
    "    if i not in results_rfe_scaled:\n",
    "        features_removed_scaling_rfe.append(i)\n",
    "print(features_removed_scaling_rfe)"
   ]
  },
  {
   "cell_type": "markdown",
   "metadata": {},
   "source": [
    "features common to both scaled and unscaled RFE"
   ]
  },
  {
   "cell_type": "code",
   "execution_count": 32,
   "metadata": {},
   "outputs": [
    {
     "name": "stdout",
     "output_type": "stream",
     "text": [
      "['fare_amount', 'mta_tax', 'tolls_amount', 'total_amount', 'congestion_surcharge']\n"
     ]
    }
   ],
   "source": [
    "features_common_scaled_unscaled_rfe = []\n",
    "for i in results_rfe_unscaled:\n",
    "    if i in results_rfe_scaled:\n",
    "        features_common_scaled_unscaled_rfe.append(i)\n",
    "print(features_common_scaled_unscaled_rfe)"
   ]
  },
  {
   "cell_type": "markdown",
   "metadata": {},
   "source": [
    "### Step 6: Explain the effect of standardizing the data"
   ]
  },
  {
   "cell_type": "markdown",
   "metadata": {},
   "source": [
    "KSelect: Scaling the data before running KSelect adds RateCodeId and 'extra.' RateCodeId is a measure of the actual fare rate, so that should have an impact on the final fare, and thus an impact on the tip (assuming most tips are calculated on the basis of a percentage of the total fare). Extra refers to rush hour and surge additions, which again would have an impact on the final fare. These additions therefore make some sense. I'm concerned about the deletions. KSelect with scaling eliminates total_amount and trip_duration. These surely should have some impact on the final fare and by extension the tip.\n",
    "\n",
    "RFE: Standardizing the data before running recursive feature elmination has removed two features, extra and trip_type and added two features RateCodeId and trip_distance. Trip distance makes sense. Longer trips would probably result in larger tips. RateCodeId also makes sense, as it is a measure of the actual fare rate. The removal of trip_type seems to imply that people were not swayed to tip or not tip on the basis of whether a trip was hailed from the street or from dispatch."
   ]
  },
  {
   "cell_type": "markdown",
   "metadata": {},
   "source": [
    "### Step 7:  Observations about the selected features\n",
    "Based on your observations about the features, did the algorithm identify meaningful features and did they align with your previous intuition about the data (Recall the data wrangling exercise)? Did it identify any features that you would not have otherwise considered."
   ]
  },
  {
   "cell_type": "markdown",
   "metadata": {},
   "source": [
    "Scaled RFE indeed seems to identify features that could have an impact on tipping rate, however, it also seems like many of these features are correlated (all of them in some way could be part of a linear equation for the total fare). It would probably benefit our model to remove hypercorrelated features in advance of running these feature selection methods."
   ]
  }
 ],
 "metadata": {
  "kernelspec": {
   "display_name": "Python 3",
   "language": "python",
   "name": "python3"
  },
  "language_info": {
   "codemirror_mode": {
    "name": "ipython",
    "version": 3
   },
   "file_extension": ".py",
   "mimetype": "text/x-python",
   "name": "python",
   "nbconvert_exporter": "python",
   "pygments_lexer": "ipython3",
   "version": "3.8.5"
  }
 },
 "nbformat": 4,
 "nbformat_minor": 2
}
